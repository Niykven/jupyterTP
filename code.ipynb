{
 "cells": [
  {
   "cell_type": "code",
   "execution_count": null,
   "id": "3c819da8-f53d-4687-8f1e-cc85602828ec",
   "metadata": {},
   "outputs": [],
   "source": [
    "printf(\"helooword\")"
   ]
  },
  {
   "cell_type": "code",
   "execution_count": 6,
   "id": "6304f87c-6422-4494-9708-d5ec9b847c75",
   "metadata": {},
   "outputs": [
    {
     "name": "stdout",
     "output_type": "stream",
     "text": [
      "<class 'int'>\n"
     ]
    }
   ],
   "source": [
    "\n",
    "a = 5        \n",
    "print(type(a)) "
   ]
  },
  {
   "cell_type": "code",
   "execution_count": null,
   "id": "db6f265b-f56d-445b-8b82-b56b421867ca",
   "metadata": {},
   "outputs": [],
   "source": []
  },
  {
   "cell_type": "code",
   "execution_count": null,
   "id": "fcdae9f5-4777-4f8b-991c-2a5bb787cb0e",
   "metadata": {},
   "outputs": [],
   "source": []
  }
 ],
 "metadata": {
  "kernelspec": {
   "display_name": "Python [conda env:base] *",
   "language": "python",
   "name": "conda-base-py"
  },
  "language_info": {
   "codemirror_mode": {
    "name": "ipython",
    "version": 3
   },
   "file_extension": ".py",
   "mimetype": "text/x-python",
   "name": "python",
   "nbconvert_exporter": "python",
   "pygments_lexer": "ipython3",
   "version": "3.13.5"
  }
 },
 "nbformat": 4,
 "nbformat_minor": 5
}

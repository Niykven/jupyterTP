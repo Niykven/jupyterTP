{
 "cells": [
  {
   "cell_type": "code",
   "execution_count": 1,
   "id": "c4375ce6-5657-4a38-acd6-b5dd7d100267",
   "metadata": {},
   "outputs": [
    {
     "name": "stdout",
     "output_type": "stream",
     "text": [
      "<class 'int'>\n"
     ]
    }
   ],
   "source": [
    "\n",
    "a = 5        \n",
    "print(type(a)) "
   ]
  },
  {
   "cell_type": "code",
   "execution_count": null,
   "id": "3f83a37b-b883-46c2-a6aa-73d0a3ca11ab",
   "metadata": {},
   "outputs": [],
   "source": []
  },
  {
   "cell_type": "code",
   "execution_count": 2,
   "id": "67c4a5e1-c960-44dd-85c5-9af44294193e",
   "metadata": {
    "scrolled": true
   },
   "outputs": [
    {
     "name": "stdout",
     "output_type": "stream",
     "text": [
      "HELLO\n",
      "H\n",
      "o\n"
     ]
    }
   ],
   "source": [
    " s= \"Hello\" \n",
    "print(s.upper())   # HELLO \n",
    "print(s[0])   \n",
    "print(s[-1])   "
   ]
  },
  {
   "cell_type": "code",
   "execution_count": 3,
   "id": "c75d5975-4b32-49ef-9153-bff9649fd4b8",
   "metadata": {},
   "outputs": [
    {
     "name": "stdout",
     "output_type": "stream",
     "text": [
      "True\n",
      "False\n"
     ]
    }
   ],
   "source": [
    "x = True \n",
    "y = False \n",
    "print(3 > 2)   # True \n",
    "print(3 == 4)"
   ]
  },
  {
   "cell_type": "code",
   "execution_count": 4,
   "id": "00792030-0143-4758-be04-62dba7ebcae1",
   "metadata": {},
   "outputs": [
    {
     "name": "stdout",
     "output_type": "stream",
     "text": [
      "[1, 2, 3, 'Python', 4]\n",
      "1\n"
     ]
    }
   ],
   "source": [
    "\n",
    "\n",
    "my_list = [1, 2, 3, \"Python\"] \n",
    "my_list.append(4)       # add 4 \n",
    "print(my_list)          # [1, 2, 3, \"Python\", 4] \n",
    "print(my_list[0])       # 1 "
   ]
  },
  {
   "cell_type": "code",
   "execution_count": 6,
   "id": "8478a97c-8b01-4ab0-88c0-83f7364cfc59",
   "metadata": {},
   "outputs": [
    {
     "name": "stdout",
     "output_type": "stream",
     "text": [
      "2\n"
     ]
    }
   ],
   "source": [
    "my_tuple = (1, 2, 3) \n",
    "print(my_tuple[1])   # 2 "
   ]
  },
  {
   "cell_type": "code",
   "execution_count": 7,
   "id": "5c34fbdc-e90a-4045-bf3b-88eb003421c2",
   "metadata": {},
   "outputs": [
    {
     "name": "stdout",
     "output_type": "stream",
     "text": [
      "{1, 2, 3}\n"
     ]
    }
   ],
   "source": [
    "my_set = {1, 2, 2, 3} \n",
    "print(my_set)     # {1, 2, 3} "
   ]
  },
  {
   "cell_type": "code",
   "execution_count": 8,
   "id": "9e973eb5-7d0b-4b47-a760-3995bdd21714",
   "metadata": {},
   "outputs": [
    {
     "name": "stdout",
     "output_type": "stream",
     "text": [
      "13\n",
      "7\n",
      "30\n",
      "3.3333333333333335\n",
      "3\n",
      "1\n",
      "1000\n"
     ]
    }
   ],
   "source": [
    "a, b = 10, 3 \n",
    "print(a + b)   # 13 \n",
    "print(a - b)   # 7 \n",
    "print(a * b)   # 30 \n",
    "print(a / b)   # 3.333... \n",
    "print(a // b)  # 3 (integer division) \n",
    "print(a % b)   # 1 (modulo) \n",
    "print(a ** b)  # 1000 (power) "
   ]
  },
  {
   "cell_type": "code",
   "execution_count": 9,
   "id": "dd9f54ed-866c-46cb-b8d1-0dc8a6eb6126",
   "metadata": {},
   "outputs": [
    {
     "name": "stdout",
     "output_type": "stream",
     "text": [
      "Adult\n"
     ]
    }
   ],
   "source": [
    "age = 20 \n",
    "if age >= 18: \n",
    "    print(\"Adult\") \n",
    "else: \n",
    "    print(\"Minor\") "
   ]
  },
  {
   "cell_type": "code",
   "execution_count": 10,
   "id": "6645d364-26b7-4f58-9185-203370321393",
   "metadata": {},
   "outputs": [
    {
     "name": "stdout",
     "output_type": "stream",
     "text": [
      "0\n",
      "1\n",
      "2\n",
      "3\n",
      "4\n",
      "3\n",
      "2\n",
      "1\n"
     ]
    }
   ],
   "source": [
    "#for \n",
    "for i in range(5): \n",
    "    print(i)   # 0 1 2 3 4 \n",
    " \n",
    "# while \n",
    "n = 3 \n",
    "while n > 0: \n",
    "    print(n) \n",
    "    n -= 1 "
   ]
  },
  {
   "cell_type": "code",
   "execution_count": 11,
   "id": "97fbb7e6-9aa2-4499-b89e-3fca167c8310",
   "metadata": {},
   "outputs": [
    {
     "name": "stdout",
     "output_type": "stream",
     "text": [
      "Hello Ali!\n"
     ]
    }
   ],
   "source": [
    "def hello(name): \n",
    "    return f\"Hello {name}!\" \n",
    " \n",
    "print(hello(\"Ali\"))   # Hello Ali! "
   ]
  },
  {
   "cell_type": "code",
   "execution_count": 12,
   "id": "e59e1141-0c73-4397-84e1-d7074340fca6",
   "metadata": {},
   "outputs": [
    {
     "name": "stdout",
     "output_type": "stream",
     "text": [
      "4.0\n"
     ]
    }
   ],
   "source": [
    "import math \n",
    "print(math.sqrt(16))  "
   ]
  },
  {
   "cell_type": "code",
   "execution_count": 13,
   "id": "2db758ca-7d9b-4220-962f-ad01b8edec64",
   "metadata": {},
   "outputs": [
    {
     "name": "stdin",
     "output_type": "stream",
     "text": [
      "Your name:  hb\n"
     ]
    },
    {
     "name": "stdout",
     "output_type": "stream",
     "text": [
      "Hello hb\n"
     ]
    }
   ],
   "source": [
    "name = input(\"Your name: \")   # user input \n",
    "print(\"Hello\", name) "
   ]
  },
  {
   "cell_type": "code",
   "execution_count": 15,
   "id": "a8f6f494-27e8-42d0-884b-216cc8d74e80",
   "metadata": {},
   "outputs": [],
   "source": [
    "import numpy as np \n",
    "a = np.array([1, 2, 3])  \n",
    "# Create a vector (1D) \n",
    "b = np.array([[1, 2], [3, 4]])        \n",
    "# Create a 2x2 matrix \n",
    "z = np.zeros((2,3))                   \n",
    "# 2x3 array filled with 0 \n",
    "o = np.ones((3,3))                    \n",
    "# 3x3 array filled with 1 \n",
    "i = np.eye(3)                         \n",
    "# 3x3 identity matrix \n",
    "r = np.arange(0,10,2)                 \n",
    "# Arithmetic sequence [0 2 4 6 8] \n",
    "l = np.linspace(0,1,5)                \n",
    "# 5 values equally spaced between 0 and 1"
   ]
  },
  {
   "cell_type": "code",
   "execution_count": 20,
   "id": "b4489113-44d9-4128-850a-85b450ed2720",
   "metadata": {},
   "outputs": [
    {
     "name": "stdout",
     "output_type": "stream",
     "text": [
      "(3,)\n",
      "1\n",
      "3\n",
      "int64\n"
     ]
    }
   ],
   "source": [
    "print(a.shape)    \n",
    "# Dimensions -> (3,) : array of 3 elements \n",
    "print(a.ndim)    # Number of axes -> 2 (matrix) \n",
    "print(a.size)    # Total number of elements -> 4 \n",
    "print(a.dtype)   # Data type -> int64 or float64 "
   ]
  },
  {
   "cell_type": "code",
   "execution_count": 21,
   "id": "daf60ad4-9fd0-4c81-bad8-b544b2b03346",
   "metadata": {},
   "outputs": [
    {
     "data": {
      "image/png": "[encoded data removed]",
      "text/plain": [
       "<Figure size 640x480 with 1 Axes>"
      ]
     },
     "metadata": {},
     "output_type": "display_data"
    }
   ],
   "source": [
    "import matplotlib.pyplot as plt \n",
    "x = [1, 2, 3, 4] \n",
    "y = [2, 4, 6, 8] \n",
    "plt.plot(x, y)          \n",
    "# draw a line \n",
    "plt.title(\"Simple Graph\") \n",
    "plt.xlabel(\"X Axis\") \n",
    "plt.ylabel(\"Y Axis\") \n",
    "plt.show()"
   ]
  },
  {
   "cell_type": "code",
   "execution_count": 1,
   "id": "8ab57d7f-94b5-4730-a87e-c15467be9735",
   "metadata": {},
   "outputs": [
    {
     "ename": "IndentationError",
     "evalue": "unexpected indent (1546568124.py, line 2)",
     "output_type": "error",
     "traceback": [
      "\u001b[1;36m  Cell \u001b[1;32mIn[1], line 2\u001b[1;36m\u001b[0m\n\u001b[1;33m    x = np.arange(-10,0.1,10)\u001b[0m\n\u001b[1;37m    ^\u001b[0m\n\u001b[1;31mIndentationError\u001b[0m\u001b[1;31m:\u001b[0m unexpected indent\n"
     ]
    }
   ],
   "source": [
    "\n",
    "import numpy as np\n",
    " x = np.arange(-10,0.1,10)"
   ]
  },
  {
   "cell_type": "code",
   "execution_count": null,
   "id": "dfbc2dbd-b2a4-4fe3-a6d3-bf0fe5cf4ba8",
   "metadata": {},
   "outputs": [],
   "source": []
  },
  {
   "cell_type": "code",
   "execution_count": null,
   "id": "da79222f-208e-4bad-bfb8-356c1d19f627",
   "metadata": {},
   "outputs": [],
   "source": []
  }
 ],
 "metadata": {
  "kernelspec": {
   "display_name": "Python [conda env:base] *",
   "language": "python",
   "name": "conda-base-py"
  },
  "language_info": {
   "codemirror_mode": {
    "name": "ipython",
    "version": 3
   },
   "file_extension": ".py",
   "mimetype": "text/x-python",
   "name": "python",
   "nbconvert_exporter": "python",
   "pygments_lexer": "ipython3",
   "version": "3.13.5"
  }
 },
 "nbformat": 4,
 "nbformat_minor": 5
}
